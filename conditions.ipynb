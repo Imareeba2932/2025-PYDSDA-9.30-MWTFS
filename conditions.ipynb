{
 "cells": [
  {
   "cell_type": "code",
   "execution_count": 5,
   "metadata": {},
   "outputs": [
    {
     "name": "stdout",
     "output_type": "stream",
     "text": [
      "A\n",
      "B\n"
     ]
    }
   ],
   "source": [
    "marks = int(input(\"Enter your marks: \"))\n",
    "if marks >= 90:\n",
    "    print(\"A+\")\n",
    "if marks >= 75:\n",
    "    print(\"A\")\n",
    "if marks >=60:\n",
    "    print(\"B\")\n",
    "if marks < 60:\n",
    "    print(\"Fail\")"
   ]
  },
  {
   "cell_type": "code",
   "execution_count": 6,
   "metadata": {},
   "outputs": [
    {
     "name": "stdout",
     "output_type": "stream",
     "text": [
      "A\n"
     ]
    }
   ],
   "source": [
    "marks = int(input(\"Enter your marks: \"))\n",
    "if marks >= 90:\n",
    "    print(\"A+\")\n",
    "elif marks >= 75:\n",
    "    print(\"A\")\n",
    "elif marks >=60:\n",
    "    print(\"B\")\n",
    "elif marks < 60:\n",
    "    print(\"Fail\")\n",
    "else:\n",
    "    print(\"Invalid input\")"
   ]
  },
  {
   "cell_type": "code",
   "execution_count": 7,
   "metadata": {},
   "outputs": [
    {
     "name": "stdout",
     "output_type": "stream",
     "text": [
      "You are eligible to vote\n"
     ]
    }
   ],
   "source": [
    "age = 20\n",
    "if age >= 18:\n",
    "    print(\"You are eligible to vote\")\n",
    "else:\n",
    "    print(\"You are not eligible to vote\")"
   ]
  },
  {
   "cell_type": "code",
   "execution_count": null,
   "metadata": {},
   "outputs": [],
   "source": [
    "username = input(\"Enter your username:\")\n",
    "email = input(\"Enter the email:\")\n",
    "password = input(\"Enter the password:\")\n",
    "cpass = input(\"Enter the confirm password:\")\n",
    "if len(username)>5 and len(username)<=15:\n",
    "    if '@' in email and '.' in email:\n",
    "        if len(password)>=8 and len(password)<=20:\n",
    "            if password == cpass:\n",
    "                print(\"Registration successfully done\")\n",
    "            else:\n",
    "                print(\"Password and confirm password do not match\")\n",
    "        else:\n",
    "            print(\"Invalid password\")\n",
    "    else:\n",
    "        print(\"Invalid email\")\n",
    "else:\n",
    "    print(\"Invalid username\")"
   ]
  }
 ],
 "metadata": {
  "kernelspec": {
   "display_name": "base",
   "language": "python",
   "name": "python3"
  },
  "language_info": {
   "codemirror_mode": {
    "name": "ipython",
    "version": 3
   },
   "file_extension": ".py",
   "mimetype": "text/x-python",
   "name": "python",
   "nbconvert_exporter": "python",
   "pygments_lexer": "ipython3",
   "version": "3.12.3"
  }
 },
 "nbformat": 4,
 "nbformat_minor": 2
}
