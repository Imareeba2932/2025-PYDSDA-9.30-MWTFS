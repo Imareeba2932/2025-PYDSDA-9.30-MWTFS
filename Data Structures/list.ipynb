{
 "cells": [
  {
   "cell_type": "code",
   "execution_count": 1,
   "metadata": {},
   "outputs": [
    {
     "name": "stdout",
     "output_type": "stream",
     "text": [
      "['google', 'drive', 'uber', 'ola', 'swiggy', 'zomato', 'insta', 'facebook', 'watsap']\n"
     ]
    }
   ],
   "source": [
    "apps = [\"google\",\"drive\",\"uber\",\"ola\",\"swiggy\",\"zomato\",\"insta\",\"facebook\",\"watsap\"]\n",
    "print(apps)"
   ]
  },
  {
   "cell_type": "code",
   "execution_count": 2,
   "metadata": {},
   "outputs": [
    {
     "name": "stdout",
     "output_type": "stream",
     "text": [
      "zomato\n",
      "insta\n"
     ]
    }
   ],
   "source": [
    "print(apps[5])\n",
    "print(apps[-3])"
   ]
  },
  {
   "cell_type": "code",
   "execution_count": 3,
   "metadata": {},
   "outputs": [
    {
     "name": "stdout",
     "output_type": "stream",
     "text": [
      "['uber', 'ola', 'swiggy', 'zomato', 'insta']\n",
      "['drive', 'ola', 'zomato', 'facebook']\n",
      "['uber', 'ola', 'swiggy', 'zomato', 'insta', 'facebook', 'watsap']\n",
      "['uber', 'swiggy', 'insta', 'watsap']\n",
      "['google', 'drive', 'uber', 'ola', 'swiggy']\n",
      "['google', 'drive', 'uber', 'ola', 'swiggy', 'zomato', 'insta', 'facebook', 'watsap']\n"
     ]
    }
   ],
   "source": [
    "print(apps[2:7])\n",
    "print(apps[1:10:2])\n",
    "print(apps[2:])\n",
    "print(apps[2::2])\n",
    "print(apps[:5])\n",
    "print(apps[:])"
   ]
  },
  {
   "cell_type": "markdown",
   "metadata": {},
   "source": [
    "List Methods \n",
    "- append - to add an element at the end of the list\n",
    "- insert - to add an element at any specific position in the list\n",
    "- pop - to delete an item using the index position of the element\n",
    "- remove - to delete an using using its name\n",
    "- copy - to make a copy of the list\n",
    "- sort - to sort the items in any particular order\n",
    "- extend - to combine two list in on list\n",
    "- reverse - to reverse the order of the list\n",
    "- clear - to remove all the items of the list but not the list"
   ]
  },
  {
   "cell_type": "code",
   "execution_count": 4,
   "metadata": {},
   "outputs": [
    {
     "name": "stdout",
     "output_type": "stream",
     "text": [
      "['google', 'drive', 'uber', 'ola', 'swiggy', 'zomato', 'insta', 'facebook', 'watsap', 'snapchat']\n"
     ]
    }
   ],
   "source": [
    "apps.append(\"snapchat\")\n",
    "print(apps)"
   ]
  },
  {
   "cell_type": "code",
   "execution_count": 5,
   "metadata": {},
   "outputs": [
    {
     "name": "stdout",
     "output_type": "stream",
     "text": [
      "['google', 'drive', 'uber', 'paytm', 'ola', 'swiggy', 'zomato', 'insta', 'facebook', 'watsap', 'snapchat']\n"
     ]
    }
   ],
   "source": [
    "apps.insert(3,\"paytm\")\n",
    "print(apps)"
   ]
  },
  {
   "cell_type": "code",
   "execution_count": 6,
   "metadata": {},
   "outputs": [
    {
     "name": "stdout",
     "output_type": "stream",
     "text": [
      "['google', 'drive', 'uber', 'paytm', 'swiggy', 'zomato', 'insta', 'facebook', 'watsap', 'snapchat']\n"
     ]
    }
   ],
   "source": [
    "apps.pop(4)\n",
    "print(apps)"
   ]
  },
  {
   "cell_type": "code",
   "execution_count": 7,
   "metadata": {},
   "outputs": [
    {
     "name": "stdout",
     "output_type": "stream",
     "text": [
      "['google', 'drive', 'paytm', 'swiggy', 'zomato', 'insta', 'facebook', 'watsap', 'snapchat']\n"
     ]
    }
   ],
   "source": [
    "apps.remove(\"uber\")\n",
    "print(apps)"
   ]
  },
  {
   "cell_type": "code",
   "execution_count": 8,
   "metadata": {},
   "outputs": [
    {
     "name": "stdout",
     "output_type": "stream",
     "text": [
      "['google', 'drive', 'paytm', 'swiggy', 'zomato', 'insta', 'facebook', 'watsap', 'snapchat']\n"
     ]
    }
   ],
   "source": [
    "x = apps.copy()\n",
    "print(x)"
   ]
  },
  {
   "cell_type": "code",
   "execution_count": 9,
   "metadata": {},
   "outputs": [
    {
     "name": "stdout",
     "output_type": "stream",
     "text": [
      "[]\n"
     ]
    }
   ],
   "source": [
    "x.clear()\n",
    "print(x)"
   ]
  },
  {
   "cell_type": "code",
   "execution_count": 10,
   "metadata": {},
   "outputs": [
    {
     "name": "stdout",
     "output_type": "stream",
     "text": [
      "['drive', 'facebook', 'google', 'insta', 'paytm', 'snapchat', 'swiggy', 'watsap', 'zomato']\n"
     ]
    }
   ],
   "source": [
    "apps.sort()\n",
    "print(apps)"
   ]
  },
  {
   "cell_type": "code",
   "execution_count": 11,
   "metadata": {},
   "outputs": [
    {
     "name": "stdout",
     "output_type": "stream",
     "text": [
      "['zomato', 'watsap', 'swiggy', 'snapchat', 'paytm', 'insta', 'google', 'facebook', 'drive']\n"
     ]
    }
   ],
   "source": [
    "apps.reverse()\n",
    "print(apps)"
   ]
  },
  {
   "cell_type": "code",
   "execution_count": 12,
   "metadata": {},
   "outputs": [
    {
     "name": "stdout",
     "output_type": "stream",
     "text": [
      "['zomato', 'watsap', 'swiggy', 'snapchat', 'paytm', 'insta', 'google', 'facebook', 'drive', 'water', 'juice', 'milk']\n"
     ]
    }
   ],
   "source": [
    "apps2 = [\"water\",\"juice\",\"milk\"]\n",
    "apps.extend(apps2)\n",
    "print(apps)"
   ]
  },
  {
   "cell_type": "code",
   "execution_count": 13,
   "metadata": {},
   "outputs": [
    {
     "name": "stdout",
     "output_type": "stream",
     "text": [
      "['water', 'juice', 'milk', 'zomato', 'watsap', 'swiggy', 'snapchat', 'paytm', 'insta', 'google', 'facebook', 'drive', 'water', 'juice', 'milk']\n"
     ]
    }
   ],
   "source": [
    "apps2.extend(apps)\n",
    "print(apps2)"
   ]
  },
  {
   "cell_type": "code",
   "execution_count": 15,
   "metadata": {},
   "outputs": [
    {
     "name": "stdout",
     "output_type": "stream",
     "text": [
      "{'lucknow': [32, 28, 40], 'delhi': [45, 35, 29], 'chennai': [30, 25, 28]}\n"
     ]
    }
   ],
   "source": [
    "temp = {\n",
    "    'lucknow' : [32,28,40],\n",
    "    'delhi' : [45,35,29],\n",
    "    'chennai' : [30,25,28]\n",
    "}\n",
    "print(temp)"
   ]
  },
  {
   "cell_type": "code",
   "execution_count": 16,
   "metadata": {},
   "outputs": [
    {
     "ename": "TypeError",
     "evalue": "'builtin_function_or_method' object is not subscriptable",
     "output_type": "error",
     "traceback": [
      "\u001b[1;31m---------------------------------------------------------------------------\u001b[0m",
      "\u001b[1;31mTypeError\u001b[0m                                 Traceback (most recent call last)",
      "Cell \u001b[1;32mIn[16], line 1\u001b[0m\n\u001b[1;32m----> 1\u001b[0m \u001b[38;5;28mprint\u001b[39m(\u001b[38;5;28;43msum\u001b[39;49m\u001b[43m[\u001b[49m\u001b[43mtemp\u001b[49m\u001b[43m[\u001b[49m\u001b[38;5;124;43m'\u001b[39;49m\u001b[38;5;124;43mdelhi\u001b[39;49m\u001b[38;5;124;43m'\u001b[39;49m\u001b[43m]\u001b[49m\u001b[43m]\u001b[49m\u001b[38;5;241m/\u001b[39m\u001b[38;5;28mlen\u001b[39m(temp[\u001b[38;5;124m'\u001b[39m\u001b[38;5;124mdelhi\u001b[39m\u001b[38;5;124m'\u001b[39m]))\n",
      "\u001b[1;31mTypeError\u001b[0m: 'builtin_function_or_method' object is not subscriptable"
     ]
    }
   ],
   "source": [
    "print(sum[temp['delhi']]/len(temp['delhi']))"
   ]
  },
  {
   "cell_type": "code",
   "execution_count": null,
   "metadata": {},
   "outputs": [],
   "source": []
  }
 ],
 "metadata": {
  "kernelspec": {
   "display_name": "base",
   "language": "python",
   "name": "python3"
  },
  "language_info": {
   "codemirror_mode": {
    "name": "ipython",
    "version": 3
   },
   "file_extension": ".py",
   "mimetype": "text/x-python",
   "name": "python",
   "nbconvert_exporter": "python",
   "pygments_lexer": "ipython3",
   "version": "3.12.3"
  }
 },
 "nbformat": 4,
 "nbformat_minor": 2
}
