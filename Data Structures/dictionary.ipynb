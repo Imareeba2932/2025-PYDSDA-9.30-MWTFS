{
 "cells": [
  {
   "cell_type": "markdown",
   "metadata": {},
   "source": [
    "- ways to declare dictionary\n",
    "- to acces key and values in dictionary\n",
    "- to add a new pair in dictionary\n",
    "- loops in dictionary\n",
    "- nested dictionary"
   ]
  },
  {
   "cell_type": "code",
   "execution_count": 2,
   "metadata": {},
   "outputs": [
    {
     "name": "stdout",
     "output_type": "stream",
     "text": [
      "{'name': 'John Doe', 'age': 20, 'class': '7', 'marks': 90}\n"
     ]
    }
   ],
   "source": [
    "students = {\n",
    "    'name' : 'John Doe',\n",
    "    'age' : 20,\n",
    "    'class' : input('Enter your class: '),\n",
    "    'marks' : 90\n",
    "}\n",
    "print(students)"
   ]
  },
  {
   "cell_type": "code",
   "execution_count": 3,
   "metadata": {},
   "outputs": [
    {
     "name": "stdout",
     "output_type": "stream",
     "text": [
      "{'lucknow': [32, 28, 40], 'delhi': [45, 35, 29], 'chennai': [30, 25, 28]}\n"
     ]
    }
   ],
   "source": [
    "temp = {\n",
    "    'lucknow' : [32,28,40],\n",
    "    'delhi' : [45,35,29],\n",
    "    'chennai' : [30,25,28]\n",
    "}\n",
    "print(temp)"
   ]
  },
  {
   "cell_type": "code",
   "execution_count": 4,
   "metadata": {},
   "outputs": [
    {
     "name": "stdout",
     "output_type": "stream",
     "text": [
      "{'name': 'John Doe', 'age': 20, 'course': 'Python', 'marks': 90}\n"
     ]
    }
   ],
   "source": [
    "info = dict(name='John Doe', age=20, course='Python', marks=90)\n",
    "print(info)"
   ]
  },
  {
   "cell_type": "code",
   "execution_count": 5,
   "metadata": {},
   "outputs": [
    {
     "name": "stdout",
     "output_type": "stream",
     "text": [
      "{'name': 'jhjkh', 'age': 20, 'course': 'Python', 'marks': 90}\n"
     ]
    }
   ],
   "source": [
    "info2 = dict(name=input(\"Enter your name:\"), age=20, course='Python', marks=90)\n",
    "print(info2)"
   ]
  },
  {
   "cell_type": "code",
   "execution_count": 6,
   "metadata": {},
   "outputs": [
    {
     "name": "stdout",
     "output_type": "stream",
     "text": [
      "John Doe\n"
     ]
    }
   ],
   "source": [
    "#1st method to acces value using its key\n",
    "print(info['name'])"
   ]
  },
  {
   "cell_type": "code",
   "execution_count": 7,
   "metadata": {},
   "outputs": [
    {
     "name": "stdout",
     "output_type": "stream",
     "text": [
      "20\n"
     ]
    }
   ],
   "source": [
    "#2nd method to acces value using its key\n",
    "print(info.get('age'))"
   ]
  },
  {
   "cell_type": "code",
   "execution_count": 8,
   "metadata": {},
   "outputs": [
    {
     "name": "stdout",
     "output_type": "stream",
     "text": [
      "{'name': 'John Doe', 'age': 20, 'class': '7', 'marks': 90, 'city': 'Lucknow'}\n"
     ]
    }
   ],
   "source": [
    "#to add a new pair in the dictionary\n",
    "students['city'] = 'Lucknow'\n",
    "print(students)"
   ]
  },
  {
   "cell_type": "code",
   "execution_count": 9,
   "metadata": {},
   "outputs": [
    {
     "name": "stdout",
     "output_type": "stream",
     "text": [
      "dict_keys(['name', 'age', 'class', 'marks', 'city'])\n",
      "dict_values(['John Doe', 20, '7', 90, 'Lucknow'])\n",
      "dict_items([('name', 'John Doe'), ('age', 20), ('class', '7'), ('marks', 90), ('city', 'Lucknow')])\n"
     ]
    }
   ],
   "source": [
    "print(students.keys())\n",
    "print(students.values())\n",
    "print(students.items())"
   ]
  },
  {
   "cell_type": "code",
   "execution_count": 19,
   "metadata": {},
   "outputs": [
    {
     "name": "stdout",
     "output_type": "stream",
     "text": [
      "name John Doe\n",
      "age 20\n",
      "class 7\n",
      "marks 90\n",
      "city Lucknow\n"
     ]
    }
   ],
   "source": [
    "for k,v in students.items():\n",
    "    print(k,v)"
   ]
  },
  {
   "cell_type": "code",
   "execution_count": 10,
   "metadata": {},
   "outputs": [
    {
     "name": "stdout",
     "output_type": "stream",
     "text": [
      "name : John Doe\n",
      "age : 20\n",
      "class : 7\n",
      "marks : 90\n",
      "city : Lucknow\n"
     ]
    }
   ],
   "source": [
    "for k,v in students.items():\n",
    "    print(f'{k} : {v}')"
   ]
  },
  {
   "cell_type": "code",
   "execution_count": 11,
   "metadata": {},
   "outputs": [
    {
     "name": "stdout",
     "output_type": "stream",
     "text": [
      "{'emp001': {'name': 'John', 'salary': 25000, 'city': 'Lucknow'}, 'emp002': {'name': 'Jane', 'salary': 30000, 'city': 'Delhi'}, 'emp003': {'name': 'Marie', 'salary': 35000, 'city': 'Lucknow'}}\n"
     ]
    }
   ],
   "source": [
    "company = {\n",
    "    'emp001': {\n",
    "        'name': 'John',\n",
    "        'salary': 25000,\n",
    "        'city': 'Lucknow'\n",
    "    },\n",
    "    'emp002': {\n",
    "        'name': 'Jane',\n",
    "        'salary': 30000,\n",
    "        'city': 'Delhi'\n",
    "    },\n",
    "    'emp003': {\n",
    "        'name': 'Marie',\n",
    "        'salary': 35000,\n",
    "        'city': 'Lucknow'\n",
    "    }\n",
    "}\n",
    "print(company)"
   ]
  },
  {
   "cell_type": "code",
   "execution_count": 12,
   "metadata": {},
   "outputs": [],
   "source": [
    "from pprint import pprint"
   ]
  },
  {
   "cell_type": "code",
   "execution_count": 13,
   "metadata": {},
   "outputs": [
    {
     "name": "stdout",
     "output_type": "stream",
     "text": [
      "{'emp001': {'city': 'Lucknow', 'name': 'John', 'salary': 25000},\n",
      " 'emp002': {'city': 'Delhi', 'name': 'Jane', 'salary': 30000},\n",
      " 'emp003': {'city': 'Lucknow', 'name': 'Marie', 'salary': 35000}}\n"
     ]
    }
   ],
   "source": [
    "pprint(company)"
   ]
  },
  {
   "cell_type": "code",
   "execution_count": 14,
   "metadata": {},
   "outputs": [
    {
     "name": "stdout",
     "output_type": "stream",
     "text": [
      "Jane\n"
     ]
    }
   ],
   "source": [
    "print(company['emp002']['name'])"
   ]
  },
  {
   "cell_type": "code",
   "execution_count": 15,
   "metadata": {},
   "outputs": [
    {
     "name": "stdout",
     "output_type": "stream",
     "text": [
      "28\n"
     ]
    }
   ],
   "source": [
    "print(temp['lucknow'][1])"
   ]
  },
  {
   "cell_type": "code",
   "execution_count": 16,
   "metadata": {},
   "outputs": [
    {
     "name": "stdout",
     "output_type": "stream",
     "text": [
      "average temp in delhi: 36.333333333333336\n"
     ]
    }
   ],
   "source": [
    "print('average temp in delhi:',sum(temp['delhi'])/len(temp['delhi']))"
   ]
  },
  {
   "cell_type": "code",
   "execution_count": null,
   "metadata": {},
   "outputs": [],
   "source": []
  }
 ],
 "metadata": {
  "kernelspec": {
   "display_name": "base",
   "language": "python",
   "name": "python3"
  },
  "language_info": {
   "codemirror_mode": {
    "name": "ipython",
    "version": 3
   },
   "file_extension": ".py",
   "mimetype": "text/x-python",
   "name": "python",
   "nbconvert_exporter": "python",
   "pygments_lexer": "ipython3",
   "version": "3.12.3"
  }
 },
 "nbformat": 4,
 "nbformat_minor": 2
}
